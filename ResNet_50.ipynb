{
  "nbformat": 4,
  "nbformat_minor": 0,
  "metadata": {
    "colab": {
      "name": "ResNet-50.ipynb",
      "provenance": [],
      "collapsed_sections": [],
      "authorship_tag": "ABX9TyM9bkDn76xx9CM4QwoYvwBc"
    },
    "kernelspec": {
      "name": "python3",
      "display_name": "Python 3"
    },
    "language_info": {
      "name": "python"
    },
    "accelerator": "GPU"
  },
  "cells": [
    {
      "cell_type": "code",
      "metadata": {
        "id": "2p7OsMqQ0nkW"
      },
      "source": [
        "import matplotlib.pyplot as plt\n",
        "import numpy as np\n",
        "import tensorflow as tf\n",
        "import tensorflow_datasets as tfds"
      ],
      "execution_count": 1,
      "outputs": []
    },
    {
      "cell_type": "code",
      "metadata": {
        "id": "-QAt3YJO03kS"
      },
      "source": [
        "(x_train, y_train), (x_test, y_test) = tf.keras.datasets.cifar10.load_data()\n",
        "assert x_train.shape == (50000, 32, 32, 3)\n",
        "assert x_test.shape == (10000, 32, 32, 3)\n",
        "assert y_train.shape == (50000, 1)\n",
        "assert y_test.shape == (10000, 1)"
      ],
      "execution_count": 2,
      "outputs": []
    },
    {
      "cell_type": "code",
      "metadata": {
        "id": "XfjbuxdC1SsT"
      },
      "source": [
        "def extractor(inputs):\n",
        "  extracting_layer =  tf.keras.applications.resnet.ResNet50(input_shape=(224,224,3),\n",
        "                                                            include_top=False,weights='imagenet')(inputs)\n",
        "  return extracting_layer"
      ],
      "execution_count": 3,
      "outputs": []
    },
    {
      "cell_type": "code",
      "metadata": {
        "id": "pIqB4be12Yrw"
      },
      "source": [
        "def classifier(inputs):\n",
        "  x = tf.keras.layers.GlobalAveragePooling2D()(inputs)\n",
        "  x = tf.keras.layers.Flatten()(x)\n",
        "  x = tf.keras.layers.Dense(1024,activation='relu')(x)\n",
        "  x = tf.keras.layers.Dense(512,activation='relu')(x)\n",
        "  x = tf.keras.layers.Dense(10,activation='softmax',name='classification')(x)\n",
        "  return x"
      ],
      "execution_count": 4,
      "outputs": []
    },
    {
      "cell_type": "code",
      "metadata": {
        "id": "UOrjoUld2-wK"
      },
      "source": [
        "def final_model(inputs):\n",
        "\n",
        "  resize = tf.keras.layers.UpSampling2D(size=(7,7))(inputs)\n",
        "  get = extractor(resize)\n",
        "  model = classifier(get)\n",
        "  return model"
      ],
      "execution_count": 5,
      "outputs": []
    },
    {
      "cell_type": "code",
      "metadata": {
        "id": "UrZVZwbd3kB5"
      },
      "source": [
        "def define_compile_model():\n",
        "  inputs = tf.keras.layers.Input(shape=(32,32,3))\n",
        "  \n",
        "  classification_output = final_model(inputs) \n",
        "  model = tf.keras.Model(inputs=inputs, outputs = classification_output)\n",
        " \n",
        "  model.compile(optimizer='adam', \n",
        "                loss='sparse_categorical_crossentropy',\n",
        "                metrics = ['accuracy'])\n",
        "  \n",
        "  return model\n",
        "\n",
        "model = define_compile_model()"
      ],
      "execution_count": 10,
      "outputs": []
    },
    {
      "cell_type": "code",
      "metadata": {
        "id": "B5L3IzWF5DXb"
      },
      "source": [
        "history = model.fit(x_train, y_train, epochs=5,validation_split=0.30, batch_size=64)"
      ],
      "execution_count": null,
      "outputs": []
    }
  ]
}