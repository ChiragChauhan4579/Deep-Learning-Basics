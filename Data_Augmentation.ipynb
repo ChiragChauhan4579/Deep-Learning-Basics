{
  "nbformat": 4,
  "nbformat_minor": 0,
  "metadata": {
    "colab": {
      "name": "Data_Augmentation.py",
      "provenance": [],
      "mount_file_id": "1cRbfnc3GsFyMXQET_PPPNxu8EfIaREzS",
      "authorship_tag": "ABX9TyNvXq8/N+sz/2Ac7fiUrVov"
    },
    "kernelspec": {
      "name": "python3",
      "display_name": "Python 3"
    },
    "accelerator": "GPU"
  },
  "cells": [
    {
      "cell_type": "code",
      "metadata": {
        "id": "0JL0DW3Flswo"
      },
      "source": [
        "from tensorflow.keras.preprocessing.image import array_to_img,img_to_array,ImageDataGenerator,load_img\r\n",
        "\r\n",
        "datagen = ImageDataGenerator(\r\n",
        "    rotation_range=40, width_shift_range=0.2,\r\n",
        "    height_shift_range=0.2, shear_range=0.2, zoom_range=0.2,\r\n",
        "    fill_mode='nearest',\r\n",
        "    horizontal_flip=True,\r\n",
        ")\r\n",
        "img = load_img('/content/drive/MyDrive/Dog1.jpg')\r\n",
        "x = img_to_array(img)\r\n",
        "x = x.reshape((1,)+x.shape)\r\n",
        "i=0\r\n",
        "for batch in datagen.flow(x,batch_size=1,save_to_dir='/content/drive/MyDrive/Colab Notebooks',save_prefix='dog',save_format='jpeg'):\r\n",
        "  i+=1\r\n",
        "  if i>20:\r\n",
        "    break"
      ],
      "execution_count": 3,
      "outputs": []
    },
    {
      "cell_type": "code",
      "metadata": {
        "id": "tMM9Uaflnxmp"
      },
      "source": [
        ""
      ],
      "execution_count": null,
      "outputs": []
    }
  ]
}