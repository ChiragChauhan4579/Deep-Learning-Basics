{
  "nbformat": 4,
  "nbformat_minor": 0,
  "metadata": {
    "colab": {
      "name": "Text-classification.ipynb",
      "provenance": [],
      "authorship_tag": "ABX9TyNUxWqRJ9kWV/B/9iB/S44a"
    },
    "kernelspec": {
      "name": "python3",
      "display_name": "Python 3"
    },
    "language_info": {
      "name": "python"
    },
    "accelerator": "GPU"
  },
  "cells": [
    {
      "cell_type": "code",
      "metadata": {
        "id": "2bbjKAO3RBga"
      },
      "source": [
        "import json\n",
        "import tensorflow as tf\n",
        "\n",
        "from tensorflow.keras.preprocessing.text import Tokenizer\n",
        "from tensorflow.keras.preprocessing.sequence import pad_sequences"
      ],
      "execution_count": 1,
      "outputs": []
    },
    {
      "cell_type": "code",
      "metadata": {
        "id": "BQVuQrZNkPn9",
        "colab": {
          "base_uri": "https://localhost:8080/"
        },
        "outputId": "7a1eeb1f-635d-4601-b6d2-243d3b29b973"
      },
      "source": [
        "!wget --no-check-certificate \\\n",
        "    https://storage.googleapis.com/laurencemoroney-blog.appspot.com/sarcasm.json \\\n",
        "    -O /tmp/sarcasm.json"
      ],
      "execution_count": 2,
      "outputs": [
        {
          "output_type": "stream",
          "text": [
            "--2021-05-09 03:59:14--  https://storage.googleapis.com/laurencemoroney-blog.appspot.com/sarcasm.json\n",
            "Resolving storage.googleapis.com (storage.googleapis.com)... 173.194.202.128, 74.125.199.128, 74.125.20.128, ...\n",
            "Connecting to storage.googleapis.com (storage.googleapis.com)|173.194.202.128|:443... connected.\n",
            "HTTP request sent, awaiting response... 200 OK\n",
            "Length: 5643545 (5.4M) [application/json]\n",
            "Saving to: ‘/tmp/sarcasm.json’\n",
            "\n",
            "\r/tmp/sarcasm.json     0%[                    ]       0  --.-KB/s               \r/tmp/sarcasm.json   100%[===================>]   5.38M  --.-KB/s    in 0.03s   \n",
            "\n",
            "2021-05-09 03:59:14 (214 MB/s) - ‘/tmp/sarcasm.json’ saved [5643545/5643545]\n",
            "\n"
          ],
          "name": "stdout"
        }
      ]
    },
    {
      "cell_type": "code",
      "metadata": {
        "id": "ZYNxAM_jSgkS"
      },
      "source": [
        "with open(\"/tmp/sarcasm.json\", 'r') as f:\n",
        "    datastore = json.load(f)\n",
        "\n",
        "sentences = []\n",
        "labels = []\n",
        "\n",
        "for item in datastore:\n",
        "    sentences.append(item['headline'])\n",
        "    labels.append(item['is_sarcastic'])"
      ],
      "execution_count": 3,
      "outputs": []
    },
    {
      "cell_type": "code",
      "metadata": {
        "id": "K6MZQNhuSl8c"
      },
      "source": [
        "training_size = 20000\n",
        "training_sentences = sentences[0:training_size]\n",
        "testing_sentences = sentences[training_size:]\n",
        "training_labels = labels[0:training_size]\n",
        "testing_labels = labels[training_size:]"
      ],
      "execution_count": 5,
      "outputs": []
    },
    {
      "cell_type": "code",
      "metadata": {
        "id": "nsE6_1ZTSosU"
      },
      "source": [
        "tokenizer = Tokenizer(num_words=10000, oov_token=\"<OOV>\")\n",
        "tokenizer.fit_on_texts(training_sentences)\n",
        "\n",
        "word_index = tokenizer.word_index\n",
        "\n",
        "training_sequences = tokenizer.texts_to_sequences(training_sentences)\n",
        "training_padded = pad_sequences(training_sequences, maxlen=100, padding='post', truncating='post')\n",
        "\n",
        "testing_sequences = tokenizer.texts_to_sequences(testing_sentences)\n",
        "testing_padded = pad_sequences(testing_sequences, maxlen=100, padding='post', truncating='post')"
      ],
      "execution_count": 7,
      "outputs": []
    },
    {
      "cell_type": "code",
      "metadata": {
        "id": "G9JnkyB4TySb"
      },
      "source": [
        "import numpy as np\n",
        "training_padded = np.array(training_padded)\n",
        "training_labels = np.array(training_labels)\n",
        "testing_padded = np.array(testing_padded)\n",
        "testing_labels = np.array(testing_labels)"
      ],
      "execution_count": 8,
      "outputs": []
    },
    {
      "cell_type": "code",
      "metadata": {
        "colab": {
          "base_uri": "https://localhost:8080/"
        },
        "id": "hA5fVKViULB6",
        "outputId": "811574f3-e2ec-4985-f489-c6f18c1dfb17"
      },
      "source": [
        "model = tf.keras.Sequential()\n",
        "model.add(tf.keras.layers.Embedding(10000,16,input_length=100))\n",
        "model.add(tf.keras.layers.GlobalAveragePooling1D())\n",
        "model.add(tf.keras.layers.Flatten())\n",
        "model.add(tf.keras.layers.Dense(50,activation='relu'))\n",
        "model.add(tf.keras.layers.Dense(25,activation='relu'))\n",
        "model.add(tf.keras.layers.Dense(1,activation='sigmoid'))\n",
        "model.compile(loss='binary_crossentropy',optimizer='adam',metrics=['accuracy'])\n",
        "model.summary()"
      ],
      "execution_count": 13,
      "outputs": [
        {
          "output_type": "stream",
          "text": [
            "Model: \"sequential_4\"\n",
            "_________________________________________________________________\n",
            "Layer (type)                 Output Shape              Param #   \n",
            "=================================================================\n",
            "embedding_2 (Embedding)      (None, 100, 16)           160000    \n",
            "_________________________________________________________________\n",
            "global_average_pooling1d_1 ( (None, 16)                0         \n",
            "_________________________________________________________________\n",
            "flatten_1 (Flatten)          (None, 16)                0         \n",
            "_________________________________________________________________\n",
            "dense (Dense)                (None, 50)                850       \n",
            "_________________________________________________________________\n",
            "dense_1 (Dense)              (None, 25)                1275      \n",
            "_________________________________________________________________\n",
            "dense_2 (Dense)              (None, 1)                 26        \n",
            "=================================================================\n",
            "Total params: 162,151\n",
            "Trainable params: 162,151\n",
            "Non-trainable params: 0\n",
            "_________________________________________________________________\n"
          ],
          "name": "stdout"
        }
      ]
    },
    {
      "cell_type": "code",
      "metadata": {
        "colab": {
          "base_uri": "https://localhost:8080/"
        },
        "id": "GgNGMD9uU74o",
        "outputId": "efef7369-e856-4f36-e115-dc39d949b747"
      },
      "source": [
        "num_epochs = 30\n",
        "history = model.fit(training_padded, training_labels, epochs=num_epochs, validation_data=(testing_padded, testing_labels), verbose=2)"
      ],
      "execution_count": 14,
      "outputs": [
        {
          "output_type": "stream",
          "text": [
            "Epoch 1/30\n",
            "625/625 - 6s - loss: 0.5966 - accuracy: 0.6586 - val_loss: 0.4476 - val_accuracy: 0.7727\n",
            "Epoch 2/30\n",
            "625/625 - 2s - loss: 0.3213 - accuracy: 0.8644 - val_loss: 0.3627 - val_accuracy: 0.8363\n",
            "Epoch 3/30\n",
            "625/625 - 2s - loss: 0.2456 - accuracy: 0.9024 - val_loss: 0.3450 - val_accuracy: 0.8547\n",
            "Epoch 4/30\n",
            "625/625 - 2s - loss: 0.1972 - accuracy: 0.9225 - val_loss: 0.3610 - val_accuracy: 0.8538\n",
            "Epoch 5/30\n",
            "625/625 - 2s - loss: 0.1645 - accuracy: 0.9369 - val_loss: 0.3921 - val_accuracy: 0.8509\n",
            "Epoch 6/30\n",
            "625/625 - 2s - loss: 0.1403 - accuracy: 0.9485 - val_loss: 0.4352 - val_accuracy: 0.8442\n",
            "Epoch 7/30\n",
            "625/625 - 2s - loss: 0.1265 - accuracy: 0.9546 - val_loss: 0.4575 - val_accuracy: 0.8442\n",
            "Epoch 8/30\n",
            "625/625 - 2s - loss: 0.1069 - accuracy: 0.9624 - val_loss: 0.5015 - val_accuracy: 0.8393\n",
            "Epoch 9/30\n",
            "625/625 - 2s - loss: 0.0960 - accuracy: 0.9665 - val_loss: 0.5573 - val_accuracy: 0.8311\n",
            "Epoch 10/30\n",
            "625/625 - 2s - loss: 0.0855 - accuracy: 0.9705 - val_loss: 0.5680 - val_accuracy: 0.8357\n",
            "Epoch 11/30\n",
            "625/625 - 2s - loss: 0.0734 - accuracy: 0.9758 - val_loss: 0.6108 - val_accuracy: 0.8326\n",
            "Epoch 12/30\n",
            "625/625 - 2s - loss: 0.0672 - accuracy: 0.9775 - val_loss: 0.6503 - val_accuracy: 0.8274\n",
            "Epoch 13/30\n",
            "625/625 - 2s - loss: 0.0568 - accuracy: 0.9808 - val_loss: 0.7123 - val_accuracy: 0.8246\n",
            "Epoch 14/30\n",
            "625/625 - 2s - loss: 0.0540 - accuracy: 0.9822 - val_loss: 0.7206 - val_accuracy: 0.8256\n",
            "Epoch 15/30\n",
            "625/625 - 2s - loss: 0.0538 - accuracy: 0.9824 - val_loss: 0.7630 - val_accuracy: 0.8229\n",
            "Epoch 16/30\n",
            "625/625 - 2s - loss: 0.0510 - accuracy: 0.9829 - val_loss: 0.8239 - val_accuracy: 0.8193\n",
            "Epoch 17/30\n",
            "625/625 - 2s - loss: 0.0385 - accuracy: 0.9885 - val_loss: 0.8348 - val_accuracy: 0.8196\n",
            "Epoch 18/30\n",
            "625/625 - 2s - loss: 0.0376 - accuracy: 0.9883 - val_loss: 0.9043 - val_accuracy: 0.8170\n",
            "Epoch 19/30\n",
            "625/625 - 2s - loss: 0.0351 - accuracy: 0.9894 - val_loss: 0.9034 - val_accuracy: 0.8182\n",
            "Epoch 20/30\n",
            "625/625 - 2s - loss: 0.0361 - accuracy: 0.9884 - val_loss: 0.9359 - val_accuracy: 0.8161\n",
            "Epoch 21/30\n",
            "625/625 - 2s - loss: 0.0360 - accuracy: 0.9881 - val_loss: 0.9467 - val_accuracy: 0.8143\n",
            "Epoch 22/30\n",
            "625/625 - 2s - loss: 0.0267 - accuracy: 0.9923 - val_loss: 1.0284 - val_accuracy: 0.8147\n",
            "Epoch 23/30\n",
            "625/625 - 2s - loss: 0.0270 - accuracy: 0.9919 - val_loss: 0.9899 - val_accuracy: 0.8117\n",
            "Epoch 24/30\n",
            "625/625 - 2s - loss: 0.0299 - accuracy: 0.9912 - val_loss: 1.0093 - val_accuracy: 0.8110\n",
            "Epoch 25/30\n",
            "625/625 - 2s - loss: 0.0264 - accuracy: 0.9918 - val_loss: 1.1594 - val_accuracy: 0.8101\n",
            "Epoch 26/30\n",
            "625/625 - 2s - loss: 0.0285 - accuracy: 0.9905 - val_loss: 1.0405 - val_accuracy: 0.8128\n",
            "Epoch 27/30\n",
            "625/625 - 2s - loss: 0.0235 - accuracy: 0.9925 - val_loss: 1.0851 - val_accuracy: 0.8091\n",
            "Epoch 28/30\n",
            "625/625 - 2s - loss: 0.0224 - accuracy: 0.9933 - val_loss: 1.2693 - val_accuracy: 0.8068\n",
            "Epoch 29/30\n",
            "625/625 - 2s - loss: 0.0239 - accuracy: 0.9923 - val_loss: 1.2175 - val_accuracy: 0.8085\n",
            "Epoch 30/30\n",
            "625/625 - 2s - loss: 0.0252 - accuracy: 0.9918 - val_loss: 1.2858 - val_accuracy: 0.8073\n"
          ],
          "name": "stdout"
        }
      ]
    },
    {
      "cell_type": "code",
      "metadata": {
        "colab": {
          "base_uri": "https://localhost:8080/",
          "height": 541
        },
        "id": "aVLtmdezVSrG",
        "outputId": "d3121671-341f-4607-d3f0-52b7806b38c9"
      },
      "source": [
        "import matplotlib.pyplot as plt\n",
        "\n",
        "\n",
        "def plot_graphs(history, string):\n",
        "  plt.plot(history.history[string])\n",
        "  plt.plot(history.history['val_'+string])\n",
        "  plt.xlabel(\"Epochs\")\n",
        "  plt.ylabel(string)\n",
        "  plt.legend([string, 'val_'+string])\n",
        "  plt.show()\n",
        "  \n",
        "plot_graphs(history, \"accuracy\")\n",
        "plot_graphs(history, \"loss\")"
      ],
      "execution_count": 15,
      "outputs": [
        {
          "output_type": "display_data",
          "data": {
            "image/png": "[encoded data removed]",
            "text/plain": [
              "<Figure size 432x288 with 1 Axes>"
            ]
          },
          "metadata": {
            "tags": [],
            "needs_background": "light"
          }
        },
        {
          "output_type": "display_data",
          "data": {
            "image/png": "[encoded data removed]",
            "text/plain": [
              "<Figure size 432x288 with 1 Axes>"
            ]
          },
          "metadata": {
            "tags": [],
            "needs_background": "light"
          }
        }
      ]
    },
    {
      "cell_type": "code",
      "metadata": {
        "colab": {
          "base_uri": "https://localhost:8080/"
        },
        "id": "TRGHYN1dVbcV",
        "outputId": "c07d8f4e-f7c2-4b66-a237-6375d5bd4095"
      },
      "source": [
        "sentence = ['kindergartener allegedly barred from school because she has two moms']\n",
        "sequences = tokenizer.texts_to_sequences(sentence)\n",
        "padded = pad_sequences(sequences, maxlen=100, padding='post', truncating='post')\n",
        "print(model.predict(padded))"
      ],
      "execution_count": 51,
      "outputs": [
        {
          "output_type": "stream",
          "text": [
            "[[5.5622705e-13]]\n"
          ],
          "name": "stdout"
        }
      ]
    }
  ]
}