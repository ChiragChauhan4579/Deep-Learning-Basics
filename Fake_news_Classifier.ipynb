{
  "nbformat": 4,
  "nbformat_minor": 0,
  "metadata": {
    "colab": {
      "name": "Fake-news-Classifier.ipynb",
      "provenance": [],
      "collapsed_sections": [],
      "mount_file_id": "18mcurmqNKld3MDHgS56A3_cujHSktMRJ",
      "authorship_tag": "ABX9TyPwVpZfEPZKYQHb+RMUqWNE"
    },
    "kernelspec": {
      "name": "python3",
      "display_name": "Python 3"
    },
    "language_info": {
      "name": "python"
    },
    "accelerator": "GPU"
  },
  "cells": [
    {
      "cell_type": "code",
      "metadata": {
        "id": "ter3-sOWUnmZ"
      },
      "source": [
        "import pandas as pd\n",
        "df=pd.read_csv('/content/drive/MyDrive/train.csv')\n",
        "df=df.dropna()\n",
        "X=df.drop('label',axis=1)\n",
        "y=df['label']"
      ],
      "execution_count": 21,
      "outputs": []
    },
    {
      "cell_type": "code",
      "metadata": {
        "id": "twRru3X1Va7-"
      },
      "source": [
        "from tensorflow.keras.layers import Embedding\n",
        "from tensorflow.keras.preprocessing.sequence import pad_sequences\n",
        "from tensorflow.keras.models import Sequential\n",
        "from tensorflow.keras.preprocessing.text import one_hot\n",
        "from tensorflow.keras.layers import LSTM\n",
        "from tensorflow.keras.layers import Dense\n",
        "from tensorflow.keras.layers import Bidirectional\n",
        "from tensorflow.keras.layers import Dropout"
      ],
      "execution_count": 2,
      "outputs": []
    },
    {
      "cell_type": "code",
      "metadata": {
        "id": "X8pJQY4wVdll"
      },
      "source": [
        "voc_size=5000\n",
        "messages=X.copy()\n",
        "messages.reset_index(inplace=True)\n",
        "import nltk\n",
        "import re\n",
        "from nltk.corpus import stopwords\n",
        "nltk.download('stopwords')\n",
        "from nltk.stem.porter import PorterStemmer\n",
        "ps = PorterStemmer()\n",
        "corpus = []\n",
        "for i in range(0, len(messages)):\n",
        "    print(i)\n",
        "    review = re.sub('[^a-zA-Z]', ' ', messages['title'][i])\n",
        "    review = review.lower()\n",
        "    review = review.split()\n",
        "    \n",
        "    review = [ps.stem(word) for word in review if not word in stopwords.words('english')]\n",
        "    review = ' '.join(review)\n",
        "    corpus.append(review)"
      ],
      "execution_count": null,
      "outputs": []
    },
    {
      "cell_type": "code",
      "metadata": {
        "colab": {
          "base_uri": "https://localhost:8080/"
        },
        "id": "u_BrcpsaV0aW",
        "outputId": "15d9b71b-b7a9-4d23-e295-6feb7fd2d444"
      },
      "source": [
        "onehot_repr=[one_hot(words,voc_size)for words in corpus] \n",
        "sent_length=20\n",
        "embedded_docs=pad_sequences(onehot_repr,padding='pre',maxlen=sent_length)\n",
        "print(embedded_docs)"
      ],
      "execution_count": 4,
      "outputs": [
        {
          "output_type": "stream",
          "text": [
            "[[   0    0    0 ... 4460 4926 2246]\n",
            " [   0    0    0 ...  612  863  388]\n",
            " [   0    0    0 ... 1336 2164 3560]\n",
            " ...\n",
            " [   0    0    0 ... 2737 2104 2630]\n",
            " [   0    0    0 ...  618 4246 3048]\n",
            " [   0    0    0 ... 1082 4727 3652]]\n"
          ],
          "name": "stdout"
        }
      ]
    },
    {
      "cell_type": "code",
      "metadata": {
        "colab": {
          "base_uri": "https://localhost:8080/"
        },
        "id": "MtszP3cnWIrz",
        "outputId": "84c816f1-ee7c-4a98-87b2-c46159bd1ce4"
      },
      "source": [
        "embedding_vector_features=40\n",
        "model=Sequential()\n",
        "model.add(Embedding(voc_size,embedding_vector_features,input_length=sent_length))\n",
        "model.add(LSTM(100))\n",
        "model.add(Dense(1,activation='sigmoid'))\n",
        "model.compile(loss='binary_crossentropy',optimizer='adam',metrics=['accuracy'])\n",
        "print(model.summary())"
      ],
      "execution_count": 5,
      "outputs": [
        {
          "output_type": "stream",
          "text": [
            "Model: \"sequential\"\n",
            "_________________________________________________________________\n",
            "Layer (type)                 Output Shape              Param #   \n",
            "=================================================================\n",
            "embedding (Embedding)        (None, 20, 40)            200000    \n",
            "_________________________________________________________________\n",
            "lstm (LSTM)                  (None, 100)               56400     \n",
            "_________________________________________________________________\n",
            "dense (Dense)                (None, 1)                 101       \n",
            "=================================================================\n",
            "Total params: 256,501\n",
            "Trainable params: 256,501\n",
            "Non-trainable params: 0\n",
            "_________________________________________________________________\n",
            "None\n"
          ],
          "name": "stdout"
        }
      ]
    },
    {
      "cell_type": "code",
      "metadata": {
        "id": "vKRDwiOkWNtI"
      },
      "source": [
        "import numpy as np\n",
        "X_final=np.array(embedded_docs)\n",
        "y_final=np.array(y)\n",
        "from sklearn.model_selection import train_test_split\n",
        "X_train, X_test, y_train, y_test = train_test_split(X_final, y_final, test_size=0.33, random_state=42)"
      ],
      "execution_count": 6,
      "outputs": []
    },
    {
      "cell_type": "code",
      "metadata": {
        "colab": {
          "base_uri": "https://localhost:8080/"
        },
        "id": "dEXSU6kpWYds",
        "outputId": "6e9984f2-3a27-499d-fcc6-ca556d258fb4"
      },
      "source": [
        "model.fit(X_train,y_train,validation_data=(X_test,y_test),epochs=10,batch_size=64)"
      ],
      "execution_count": 7,
      "outputs": [
        {
          "output_type": "stream",
          "text": [
            "Epoch 1/10\n",
            "192/192 [==============================] - 34s 18ms/step - loss: 0.4876 - accuracy: 0.7515 - val_loss: 0.2308 - val_accuracy: 0.9026\n",
            "Epoch 2/10\n",
            "192/192 [==============================] - 3s 14ms/step - loss: 0.1713 - accuracy: 0.9341 - val_loss: 0.2258 - val_accuracy: 0.9100\n",
            "Epoch 3/10\n",
            "192/192 [==============================] - 3s 14ms/step - loss: 0.1215 - accuracy: 0.9556 - val_loss: 0.2540 - val_accuracy: 0.9064\n",
            "Epoch 4/10\n",
            "192/192 [==============================] - 3s 13ms/step - loss: 0.0849 - accuracy: 0.9713 - val_loss: 0.2723 - val_accuracy: 0.9067\n",
            "Epoch 5/10\n",
            "192/192 [==============================] - 3s 14ms/step - loss: 0.0618 - accuracy: 0.9790 - val_loss: 0.3251 - val_accuracy: 0.9006\n",
            "Epoch 6/10\n",
            "192/192 [==============================] - 3s 14ms/step - loss: 0.0391 - accuracy: 0.9898 - val_loss: 0.3366 - val_accuracy: 0.9007\n",
            "Epoch 7/10\n",
            "192/192 [==============================] - 3s 14ms/step - loss: 0.0300 - accuracy: 0.9918 - val_loss: 0.4373 - val_accuracy: 0.9007\n",
            "Epoch 8/10\n",
            "192/192 [==============================] - 3s 14ms/step - loss: 0.0214 - accuracy: 0.9930 - val_loss: 0.4758 - val_accuracy: 0.9024\n",
            "Epoch 9/10\n",
            "192/192 [==============================] - 3s 14ms/step - loss: 0.0118 - accuracy: 0.9972 - val_loss: 0.5631 - val_accuracy: 0.8973\n",
            "Epoch 10/10\n",
            "192/192 [==============================] - 3s 14ms/step - loss: 0.0088 - accuracy: 0.9977 - val_loss: 0.6858 - val_accuracy: 0.8959\n"
          ],
          "name": "stdout"
        },
        {
          "output_type": "execute_result",
          "data": {
            "text/plain": [
              "<tensorflow.python.keras.callbacks.History at 0x7fa3a000b590>"
            ]
          },
          "metadata": {
            "tags": []
          },
          "execution_count": 7
        }
      ]
    },
    {
      "cell_type": "code",
      "metadata": {
        "colab": {
          "base_uri": "https://localhost:8080/"
        },
        "id": "V5rxwCLQWbWy",
        "outputId": "7e76f9c0-eb28-4a36-860b-2ae3a9c6148b"
      },
      "source": [
        "y_pred=model.predict_classes(X_test)"
      ],
      "execution_count": 8,
      "outputs": [
        {
          "output_type": "stream",
          "text": [
            "/usr/local/lib/python3.7/dist-packages/tensorflow/python/keras/engine/sequential.py:450: UserWarning: `model.predict_classes()` is deprecated and will be removed after 2021-01-01. Please use instead:* `np.argmax(model.predict(x), axis=-1)`,   if your model does multi-class classification   (e.g. if it uses a `softmax` last-layer activation).* `(model.predict(x) > 0.5).astype(\"int32\")`,   if your model does binary classification   (e.g. if it uses a `sigmoid` last-layer activation).\n",
            "  warnings.warn('`model.predict_classes()` is deprecated and '\n"
          ],
          "name": "stderr"
        }
      ]
    },
    {
      "cell_type": "code",
      "metadata": {
        "colab": {
          "base_uri": "https://localhost:8080/"
        },
        "id": "wk7pc6vaWhfr",
        "outputId": "85c300a5-a7f2-44a8-e05d-334223b563c2"
      },
      "source": [
        "from sklearn.metrics import confusion_matrix\n",
        "confusion_matrix(y_test,y_pred)\n",
        "from sklearn.metrics import accuracy_score\n",
        "accuracy_score(y_test,y_pred)\n",
        "from sklearn.metrics import classification_report\n",
        "print(classification_report(y_test,y_pred))"
      ],
      "execution_count": 10,
      "outputs": [
        {
          "output_type": "stream",
          "text": [
            "              precision    recall  f1-score   support\n",
            "\n",
            "           0       0.94      0.87      0.90      3419\n",
            "           1       0.85      0.92      0.88      2616\n",
            "\n",
            "    accuracy                           0.90      6035\n",
            "   macro avg       0.89      0.90      0.89      6035\n",
            "weighted avg       0.90      0.90      0.90      6035\n",
            "\n"
          ],
          "name": "stdout"
        }
      ]
    },
    {
      "cell_type": "code",
      "metadata": {
        "colab": {
          "base_uri": "https://localhost:8080/"
        },
        "id": "YAz1ppUzYJAH",
        "outputId": "b5abc2a7-1352-46ac-d34e-6d3c7f46f5af"
      },
      "source": [
        "q = model.predict( np.array( [y_test[10],] )  )"
      ],
      "execution_count": 27,
      "outputs": [
        {
          "output_type": "stream",
          "text": [
            "WARNING:tensorflow:Model was constructed with shape (None, 20) for input KerasTensor(type_spec=TensorSpec(shape=(None, 20), dtype=tf.float32, name='embedding_input'), name='embedding_input', description=\"created by layer 'embedding_input'\"), but it was called on an input with incompatible shape (None, 1).\n"
          ],
          "name": "stdout"
        }
      ]
    },
    {
      "cell_type": "code",
      "metadata": {
        "colab": {
          "base_uri": "https://localhost:8080/"
        },
        "id": "AlDoe9s2dpNJ",
        "outputId": "2f4f8680-37b9-46f4-b2f2-ece421cf956a"
      },
      "source": [
        "print(q)\n",
        "if q > 0.5:\n",
        "  print('True news')\n",
        "else:\n",
        "  print('False/Fake news')"
      ],
      "execution_count": 33,
      "outputs": [
        {
          "output_type": "stream",
          "text": [
            "[[0.4700639]]\n",
            "False/Fake news\n"
          ],
          "name": "stdout"
        }
      ]
    }
  ]
}