{
  "nbformat": 4,
  "nbformat_minor": 0,
  "metadata": {
    "colab": {
      "name": "Creating-Custom-Layer.ipynb",
      "provenance": [],
      "collapsed_sections": [],
      "authorship_tag": "ABX9TyOVLqGVAJsomK0a69qMLnLP"
    },
    "kernelspec": {
      "name": "python3",
      "display_name": "Python 3"
    },
    "language_info": {
      "name": "python"
    }
  },
  "cells": [
    {
      "cell_type": "code",
      "metadata": {
        "id": "P3Vz4zHmyCdb"
      },
      "source": [
        "import tensorflow as tf\n",
        "from tensorflow.keras.layers import Layer\n",
        "!pip install utils\n",
        "import utils"
      ],
      "execution_count": null,
      "outputs": []
    },
    {
      "cell_type": "code",
      "metadata": {
        "id": "hmUKI28Ryb7V"
      },
      "source": [
        "class SimpleQuadratic(Layer):\n",
        "\n",
        "    def __init__(self, units=32, activation=None):\n",
        "        super(SimpleQuadratic, self).__init__()\n",
        "        self.units = units\n",
        "        self.activation = tf.keras.activations.get(activation)\n",
        "    \n",
        "    def build(self, input_shape):\n",
        "        a_init = tf.random_normal_initializer()\n",
        "        b_init = tf.random_normal_initializer()\n",
        "        c_init = tf.zeros_initializer()\n",
        "        \n",
        "        self.a = tf.Variable(name = \"kernel\", initial_value = a_init(shape= (input_shape[-1], self.units),dtype= \"float32\"), trainable = True)\n",
        "        \n",
        "        self.b = tf.Variable(name = \"kernel\", initial_value = b_init(shape= (input_shape[-1], self.units),dtype= \"float32\"), trainable = True)\n",
        "        \n",
        "        self.c = tf.Variable(name = \"bias\", initial_value = c_init(shape= (self.units,),dtype= \"float32\"), trainable = True)\n",
        "   \n",
        "    def call(self, inputs):\n",
        "        # YOUR CODE HERE\n",
        "        result = tf.matmul(tf.math.square(inputs), self.a) + tf.matmul(inputs, self.b) + self.c\n",
        "        return self.activation(result)"
      ],
      "execution_count": 35,
      "outputs": []
    },
    {
      "cell_type": "code",
      "metadata": {
        "colab": {
          "base_uri": "https://localhost:8080/"
        },
        "id": "ye1b6U2j4RX6",
        "outputId": "796eeec5-b2b7-442f-9760-b4f1e4f66569"
      },
      "source": [
        "mnist = tf.keras.datasets.mnist\n",
        "\n",
        "(x_train, y_train),(x_test, y_test) = mnist.load_data()\n",
        "x_train, x_test = x_train / 255.0, x_test / 255.0\n",
        "\n",
        "model = tf.keras.models.Sequential([\n",
        "  tf.keras.layers.Flatten(input_shape=(28, 28)),\n",
        "  SimpleQuadratic(128, activation='relu'),\n",
        "  tf.keras.layers.Dropout(0.2),\n",
        "  tf.keras.layers.Dense(10, activation='softmax')\n",
        "])\n",
        "\n",
        "model.compile(optimizer='adam',\n",
        "              loss='sparse_categorical_crossentropy',\n",
        "              metrics=['accuracy'])\n",
        "\n",
        "model.fit(x_train, y_train, epochs=5)\n",
        "model.evaluate(x_test, y_test)"
      ],
      "execution_count": 36,
      "outputs": [
        {
          "output_type": "stream",
          "text": [
            "Downloading data from https://storage.googleapis.com/tensorflow/tf-keras-datasets/mnist.npz\n",
            "11493376/11490434 [==============================] - 0s 0us/step\n",
            "Epoch 1/5\n",
            "1875/1875 [==============================] - 7s 3ms/step - loss: 0.4242 - accuracy: 0.8722\n",
            "Epoch 2/5\n",
            "1875/1875 [==============================] - 6s 3ms/step - loss: 0.1377 - accuracy: 0.9587\n",
            "Epoch 3/5\n",
            "1875/1875 [==============================] - 6s 3ms/step - loss: 0.1076 - accuracy: 0.9670\n",
            "Epoch 4/5\n",
            "1875/1875 [==============================] - 6s 3ms/step - loss: 0.0852 - accuracy: 0.9739\n",
            "Epoch 5/5\n",
            "1875/1875 [==============================] - 6s 3ms/step - loss: 0.0674 - accuracy: 0.9785\n",
            "313/313 [==============================] - 1s 1ms/step - loss: 0.0819 - accuracy: 0.9755\n"
          ],
          "name": "stdout"
        },
        {
          "output_type": "execute_result",
          "data": {
            "text/plain": [
              "[0.08188477903604507, 0.9754999876022339]"
            ]
          },
          "metadata": {
            "tags": []
          },
          "execution_count": 36
        }
      ]
    }
  ]
}