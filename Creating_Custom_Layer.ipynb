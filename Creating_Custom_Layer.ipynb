{
  "nbformat": 4,
  "nbformat_minor": 0,
  "metadata": {
    "colab": {
      "name": "Creating-Custom-Layer.ipynb",
      "provenance": []
    },
    "kernelspec": {
      "name": "python3",
      "display_name": "Python 3"
    },
    "language_info": {
      "name": "python"
    }
  },
  "cells": [
    {
      "cell_type": "code",
      "metadata": {
        "id": "P3Vz4zHmyCdb"
      },
      "source": [
        "import tensorflow as tf\n",
        "from tensorflow.keras.layers import Layer\n",
        "!pip install utils\n",
        "import utils"
      ],
      "execution_count": null,
      "outputs": []
    },
    {
      "cell_type": "code",
      "metadata": {
        "id": "hmUKI28Ryb7V"
      },
      "source": [
        "class Dense(Layer):\n",
        "  \n",
        "  def __init__(self,units=32):\n",
        "    super(Dense,self).__init__()\n",
        "    self.units=units\n",
        "  def build(self,input_shape):\n",
        "    w_init = tf.random_normal_initializer()\n",
        "    self.w = tf.Variable(initial_value=w_init(input_shape[-1],self.units),dtype='float32',trainable=True,name='Kernel')\n",
        "    b_init = tf.random_normal_initializer()\n",
        "    self.b = tf.Variable(initial_value=b_init(self.units),dtype='float32',trainable=True,name='bias')\n",
        "  def call(self,inputs):\n",
        "    return tf.matmul(input+self.w)+self.b"
      ],
      "execution_count": 4,
      "outputs": []
    },
    {
      "cell_type": "code",
      "metadata": {
        "id": "ye1b6U2j4RX6"
      },
      "source": [
        ""
      ],
      "execution_count": null,
      "outputs": []
    }
  ]
}